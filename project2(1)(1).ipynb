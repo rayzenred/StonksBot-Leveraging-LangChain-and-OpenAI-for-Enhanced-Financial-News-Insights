{
 "cells": [
  {
   "cell_type": "code",
   "execution_count": null,
   "id": "8b398b45-9e67-4498-874d-14dad0df6b1e",
   "metadata": {
    "tags": []
   },
   "outputs": [],
   "source": [
    "import os\n",
    "import pickle\n",
    "import langchain\n",
    "from langchain.llms import OpenAI\n",
    "from langchain.chains import RetrievalQAWithSourcesChain\n",
    "from langchain.chains.qa_with_sources.loading import load_qa_with_sources_chain\n",
    "from langchain.text_splitter import RecursiveCharacterTextSplitter\n",
    "from langchain.document_loaders import UnstructuredURLLoader\n",
    "from langchain.embeddings import OpenAIEmbeddings\n",
    "from langchain.vectorstores import FAISS"
   ]
  },
  {
   "cell_type": "code",
   "execution_count": null,
   "id": "ccc243d5-ba12-49b8-80a0-6aa5da08ad3c",
   "metadata": {
    "tags": []
   },
   "outputs": [],
   "source": [
    "class DictDocumentStore:\n",
    "    def __init__(self, documents):\n",
    "        self.documents = documents\n",
    "\n",
    "    def search(self, doc_id):\n",
    "        return self.documents.get(doc_id, None)"
   ]
  },
  {
   "cell_type": "code",
   "execution_count": null,
   "id": "f33b8582-29b9-41bd-8fcc-c67ce5eeeeef",
   "metadata": {
    "tags": []
   },
   "outputs": [],
   "source": [
    "os.environ['OPENAI_API_KEY'] = 'xxxxxxxxxxxxxxxxxxxxxx'"
   ]
  },
  {
   "cell_type": "code",
   "execution_count": null,
   "id": "1f81bde5-a96b-4937-8572-4a6c3da33db4",
   "metadata": {
    "tags": []
   },
   "outputs": [],
   "source": [
    "llm = OpenAI(temperature=0.9, max_tokens=100)"
   ]
  },
  {
   "cell_type": "code",
   "execution_count": null,
   "id": "9822af4a-49b3-4551-b5e9-3f9667960233",
   "metadata": {
    "tags": []
   },
   "outputs": [],
   "source": [
    "loaders = UnstructuredURLLoader(urls=[\n",
    "    \"https://finance.yahoo.com/news/jpmorgan-says-sp-500-will-fall-next-year-amid-challenging-macro-backdrop-201119875.html\",\n",
    "    \"https://finance.yahoo.com/news/richest-country-world-now-bankrupt-141245951.html\",\n",
    "    \"https://finance.yahoo.com/news/buffetts-berkshire-hathaway-says-haslams-192514140.html\"\n",
    "])\n",
    "data = loaders.load() \n",
    "len(data)"
   ]
  },
  {
   "cell_type": "code",
   "execution_count": null,
   "id": "2cae4683-aaf0-46bf-ba99-685f3eb03cc0",
   "metadata": {
    "tags": []
   },
   "outputs": [],
   "source": [
    "text_splitter = RecursiveCharacterTextSplitter(\n",
    "        separators=['\\n\\n', '\\n', '.', ','],\n",
    "        chunk_size=1000,\n",
    "        chunk_overlap=300\n",
    "    )\n",
    "docs = text_splitter.split_documents(data)"
   ]
  },
  {
   "cell_type": "code",
   "execution_count": null,
   "id": "b7d59950-edc3-49c4-abc6-832921f4c24a",
   "metadata": {
    "tags": []
   },
   "outputs": [],
   "source": [
    "embeddings = OpenAIEmbeddings()\n",
    "\n",
    "vectorindex_openai = FAISS.from_documents(docs, embeddings)"
   ]
  },
  {
   "cell_type": "code",
   "execution_count": null,
   "id": "69bd1c29-eb49-437c-8e5c-40545de80235",
   "metadata": {
    "tags": []
   },
   "outputs": [],
   "source": [
    "import faiss \n",
    "index = vectorindex_openai.index\n",
    "metadata = {\n",
    "   \"d\": index.d,\n",
    "   \"ntotal\": index.ntotal\n",
    "}\n",
    "\n",
    "file_path = \"vector_index.pkl\"\n",
    "with open(file_path, \"wb\") as f:\n",
    "    pickle.dump((index, metadata), f)"
   ]
  },
  {
   "cell_type": "code",
   "execution_count": null,
   "id": "882d90ea-899c-40da-820c-4c792dd24251",
   "metadata": {
    "tags": []
   },
   "outputs": [],
   "source": [
    "file_path = \"vector_index.pkl\"\n",
    "with open(file_path, \"rb\") as f:\n",
    "    loaded_index, loaded_metadata = pickle.load(f)\n",
    "\n",
    "\n",
    "docstore = DictDocumentStore({i: doc for i, doc in enumerate(docs)})\n",
    "index_to_docstore_id = {i: i for i in range(len(docs))}\n",
    "\n",
    "embedding_function = OpenAIEmbeddings()\n",
    "\n",
    "vectorindex_openai = FAISS(index=loaded_index, docstore=docstore, index_to_docstore_id=index_to_docstore_id, embedding_function=embedding_function)"
   ]
  },
  {
   "cell_type": "code",
   "execution_count": null,
   "id": "b8b62f03-54bf-4a03-852c-564a82e58318",
   "metadata": {
    "tags": []
   },
   "outputs": [],
   "source": [
    "chain = RetrievalQAWithSourcesChain.from_llm(llm=llm, retriever=vectorindex_openai.as_retriever())\n",
    "chain"
   ]
  },
  {
   "cell_type": "code",
   "execution_count": null,
   "id": "65cd7eeb-c3d0-4cdc-a3dd-e521339166fa",
   "metadata": {
    "tags": []
   },
   "outputs": [],
   "source": [
    "query = \" who led the JPMorgan equity strategists?\"\n",
    "chain({\"question\": query}, return_only_outputs=True)"
   ]
  },
  {
   "cell_type": "code",
   "execution_count": null,
   "id": "155c92c3-2eb2-4339-970e-3c36a93cdeb7",
   "metadata": {},
   "outputs": [],
   "source": [
    "query = \" what does the robert kiyosakhi tells about USA economy\"\n",
    "chain({\"question\": query}, return_only_outputs=True)"
   ]
  },
  {
   "cell_type": "code",
   "execution_count": null,
   "id": "bd61ec27-5a14-4ffa-b0fe-92abb790ef4f",
   "metadata": {},
   "outputs": [],
   "source": []
  }
 ],
 "metadata": {
  "environment": {
   "kernel": "conda-root-py",
   "name": "workbench-notebooks.m113",
   "type": "gcloud",
   "uri": "gcr.io/deeplearning-platform-release/workbench-notebooks:m113"
  },
  "kernelspec": {
   "display_name": "Python 3 (ipykernel) (Local)",
   "language": "python",
   "name": "conda-root-py"
  },
  "language_info": {
   "codemirror_mode": {
    "name": "ipython",
    "version": 3
   },
   "file_extension": ".py",
   "mimetype": "text/x-python",
   "name": "python",
   "nbconvert_exporter": "python",
   "pygments_lexer": "ipython3",
   "version": "3.10.13"
  }
 },
 "nbformat": 4,
 "nbformat_minor": 5
}
